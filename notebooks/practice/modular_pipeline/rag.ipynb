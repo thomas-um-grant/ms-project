{
 "cells": [
  {
   "cell_type": "markdown",
   "metadata": {},
   "source": [
    "# RAG Experiments\n",
    "## Main notebook to run RAG experiments leveraging the modularized RAG pipeline"
   ]
  },
  {
   "cell_type": "markdown",
   "metadata": {},
   "source": [
    "## Setup"
   ]
  },
  {
   "cell_type": "code",
   "execution_count": 24,
   "metadata": {},
   "outputs": [],
   "source": [
    "# Imports\n",
    "import os"
   ]
  },
  {
   "cell_type": "code",
   "execution_count": 25,
   "metadata": {},
   "outputs": [
    {
     "name": "stdout",
     "output_type": "stream",
     "text": [
      "Files paths:\n",
      "/Users/thomas/repos/imperial/project/ms-project/data/math_for_ml_pdf/MML FullCourse.pdf\n",
      "/Users/thomas/repos/imperial/project/ms-project/data/math_for_ml_pdf/math_for_ml_lec_8.pdf\n",
      "/Users/thomas/repos/imperial/project/ms-project/data/math_for_ml_pdf/math_for_ml_lec_9.pdf\n",
      "/Users/thomas/repos/imperial/project/ms-project/data/math_for_ml_pdf/math_for_ml_lec_11.pdf\n",
      "/Users/thomas/repos/imperial/project/ms-project/data/math_for_ml_pdf/math_for_ml_lec_7.pdf\n",
      "/Users/thomas/repos/imperial/project/ms-project/data/math_for_ml_pdf/math_for_ml_lec_6.pdf\n",
      "/Users/thomas/repos/imperial/project/ms-project/data/math_for_ml_pdf/math_for_ml_lec_10.pdf\n",
      "/Users/thomas/repos/imperial/project/ms-project/data/math_for_ml_pdf/math_for_ml_lec_12.pdf\n",
      "/Users/thomas/repos/imperial/project/ms-project/data/math_for_ml_pdf/math_for_ml_lec_4.pdf\n",
      "/Users/thomas/repos/imperial/project/ms-project/data/math_for_ml_pdf/math_for_ml_lec_5.pdf\n",
      "/Users/thomas/repos/imperial/project/ms-project/data/math_for_ml_pdf/math_for_ml_lec_13.pdf\n",
      "/Users/thomas/repos/imperial/project/ms-project/data/math_for_ml_pdf/math_for_ml_lec_1.pdf\n",
      "/Users/thomas/repos/imperial/project/ms-project/data/math_for_ml_pdf/math_for_ml_lec_0.pdf\n",
      "/Users/thomas/repos/imperial/project/ms-project/data/math_for_ml_pdf/math_for_ml_lec_14.pdf\n",
      "/Users/thomas/repos/imperial/project/ms-project/data/math_for_ml_pdf/math_for_ml_lec_2.pdf\n",
      "/Users/thomas/repos/imperial/project/ms-project/data/math_for_ml_pdf/math_for_ml_lec_3.pdf\n"
     ]
    }
   ],
   "source": [
    "# Data\n",
    "files_paths = []\n",
    "\n",
    "# For all files under \"/Users/thomas/repos/imperial/project/ms-project/data/math_for_ml_pdf/\", append it to the files_paths list\n",
    "for root, dirs, files in os.walk(\"/Users/thomas/repos/imperial/project/ms-project/data/math_for_ml_pdf/\"):\n",
    "    for file in files:\n",
    "        if file.endswith(\".pdf\"):\n",
    "            files_paths.append(os.path.join(root, file))\n",
    "\n",
    "print(\"Files paths:\")\n",
    "for file_path in files_paths:\n",
    "    print(file_path)"
   ]
  },
  {
   "cell_type": "markdown",
   "metadata": {},
   "source": [
    "## Ingestion"
   ]
  },
  {
   "cell_type": "markdown",
   "metadata": {},
   "source": [
    "### Extract"
   ]
  },
  {
   "cell_type": "code",
   "execution_count": 27,
   "metadata": {},
   "outputs": [
    {
     "data": {
      "application/vnd.jupyter.widget-view+json": {
       "model_id": "cfa9f4db15f142d89153f48901b2f18f",
       "version_major": 2,
       "version_minor": 0
      },
      "text/plain": [
       "0it [00:00, ?it/s]"
      ]
     },
     "metadata": {},
     "output_type": "display_data"
    },
    {
     "name": "stdout",
     "output_type": "stream",
     "text": [
      "    document_name  page_id  page_char_count  page_word_count  \\\n",
      "0        pdf_path        0              178               29   \n",
      "1        pdf_path        1             2278              380   \n",
      "2        pdf_path        2              491               66   \n",
      "3        pdf_path        3              472               65   \n",
      "4        pdf_path        4               44                6   \n",
      "..            ...      ...              ...              ...   \n",
      "241      pdf_path      241             1734              323   \n",
      "242      pdf_path      242              678              132   \n",
      "243      pdf_path      243             1573              290   \n",
      "244      pdf_path      244             1695              363   \n",
      "245      pdf_path      245             2038              323   \n",
      "\n",
      "     page_sentence_count_raw  page_token_count  \\\n",
      "0                          1             44.50   \n",
      "1                         13            569.50   \n",
      "2                          1            122.75   \n",
      "3                          1            118.00   \n",
      "4                          1             11.00   \n",
      "..                       ...               ...   \n",
      "241                       15            433.50   \n",
      "242                        6            169.50   \n",
      "243                       15            393.25   \n",
      "244                        9            423.75   \n",
      "245                       16            509.50   \n",
      "\n",
      "                                                  text  \n",
      "0    Mathematics for Machine Learning Imperial Coll...  \n",
      "1    Course Philosophy Though many students have gr...  \n",
      "2    Contents 0 Preliminaries (Notes, Exercises) 4 ...  \n",
      "3    8 Introduction to Probability for ML (Notes, E...  \n",
      "4         Chapter 0 Preliminaries (Notes, Exercises) 4  \n",
      "..                                                 ...  \n",
      "241  Unofficial Practice Exam. For Review Only. Dep...  \n",
      "242  Unofficial Practice Exam. For Review Only. Dep...  \n",
      "243  Unofficial Practice Exam. For Review Only. Dep...  \n",
      "244  Unofficial Practice Exam. For Review Only. Dep...  \n",
      "245  Unofficial Practice Exam. For Review Only. Dep...  \n",
      "\n",
      "[246 rows x 7 columns]\n"
     ]
    }
   ],
   "source": [
    "from pipeline import ingest\n",
    "\n",
    "corpus_df = ingest.ingest(files_paths)\n",
    "\n",
    "print(corpus_df)"
   ]
  },
  {
   "cell_type": "markdown",
   "metadata": {},
   "source": [
    "### Transform"
   ]
  },
  {
   "cell_type": "markdown",
   "metadata": {},
   "source": [
    "## Retrievial"
   ]
  },
  {
   "cell_type": "code",
   "execution_count": null,
   "metadata": {},
   "outputs": [],
   "source": []
  },
  {
   "cell_type": "markdown",
   "metadata": {},
   "source": [
    "## Evaluation"
   ]
  },
  {
   "cell_type": "code",
   "execution_count": null,
   "metadata": {},
   "outputs": [],
   "source": []
  }
 ],
 "metadata": {
  "kernelspec": {
   "display_name": "projectenv",
   "language": "python",
   "name": "python3"
  },
  "language_info": {
   "codemirror_mode": {
    "name": "ipython",
    "version": 3
   },
   "file_extension": ".py",
   "mimetype": "text/x-python",
   "name": "python",
   "nbconvert_exporter": "python",
   "pygments_lexer": "ipython3",
   "version": "3.12.9"
  }
 },
 "nbformat": 4,
 "nbformat_minor": 2
}
