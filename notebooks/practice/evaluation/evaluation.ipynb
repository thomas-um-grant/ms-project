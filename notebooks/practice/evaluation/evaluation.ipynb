{
 "cells": [
  {
   "cell_type": "markdown",
   "metadata": {},
   "source": [
    "# Evaluation for RAG Pipeline"
   ]
  },
  {
   "cell_type": "markdown",
   "metadata": {},
   "source": [
    "## Setup"
   ]
  },
  {
   "cell_type": "markdown",
   "metadata": {},
   "source": [
    "### Libraries"
   ]
  },
  {
   "cell_type": "code",
   "execution_count": null,
   "metadata": {},
   "outputs": [],
   "source": [
    "import os\n",
    "import requests\n",
    "\n",
    "import torch\n",
    "from PIL import Image\n",
    "from transformers import (\n",
    "    MllamaForConditionalGeneration,\n",
    "    AutoProcessor,\n",
    "    ColPaliForRetrieval,\n",
    "    ColPaliProcessor,\n",
    ")\n",
    "from datasets import load_dataset\n",
    "\n",
    "from vidore_benchmark.retrievers.colpali_retriever import ColPaliRetriever\n",
    "from vidore_benchmark.evaluation.vidore_evaluators import (\n",
    "    ViDoReEvaluatorQA,\n",
    "    ViDoReEvaluatorBEIR,\n",
    ")\n",
    "from vidore_benchmark.retrievers import VisionRetriever"
   ]
  },
  {
   "cell_type": "markdown",
   "metadata": {},
   "source": [
    "### Machine"
   ]
  },
  {
   "cell_type": "code",
   "execution_count": null,
   "metadata": {},
   "outputs": [],
   "source": [
    "def detect_device():\n",
    "    \"\"\"\n",
    "    Detects the best available device (CUDA, MPS, or CPU).\n",
    "    \"\"\"\n",
    "    if torch.cuda.is_available():\n",
    "        return \"cuda\"\n",
    "    elif torch.backends.mps.is_available():\n",
    "        return \"mps\"\n",
    "    else:\n",
    "        return \"cpu\"\n",
    "\n",
    "\n",
    "device = detect_device()"
   ]
  },
  {
   "cell_type": "markdown",
   "metadata": {},
   "source": [
    "### Datasets"
   ]
  },
  {
   "cell_type": "code",
   "execution_count": 16,
   "metadata": {},
   "outputs": [
    {
     "data": {
      "application/vnd.jupyter.widget-view+json": {
       "model_id": "5214e37a846e4b1eb82402d9a3909a33",
       "version_major": 2,
       "version_minor": 0
      },
      "text/plain": [
       "README.md:   0%|          | 0.00/3.49k [00:00<?, ?B/s]"
      ]
     },
     "metadata": {},
     "output_type": "display_data"
    },
    {
     "data": {
      "application/vnd.jupyter.widget-view+json": {
       "model_id": "32d9913134ca422ba1a77883efcabd5b",
       "version_major": 2,
       "version_minor": 0
      },
      "text/plain": [
       "Resolving data files:   0%|          | 0/82 [00:00<?, ?it/s]"
      ]
     },
     "metadata": {},
     "output_type": "display_data"
    },
    {
     "data": {
      "application/vnd.jupyter.widget-view+json": {
       "model_id": "fc810b2a4efc464784ea3fec0e995a85",
       "version_major": 2,
       "version_minor": 0
      },
      "text/plain": [
       "Resolving data files:   0%|          | 0/82 [00:00<?, ?it/s]"
      ]
     },
     "metadata": {},
     "output_type": "display_data"
    },
    {
     "data": {
      "application/vnd.jupyter.widget-view+json": {
       "model_id": "23c8caacc2264b27a4c7e1aa063a154d",
       "version_major": 2,
       "version_minor": 0
      },
      "text/plain": [
       "Downloading data:   0%|          | 0/82 [00:00<?, ?files/s]"
      ]
     },
     "metadata": {},
     "output_type": "display_data"
    },
    {
     "data": {
      "application/vnd.jupyter.widget-view+json": {
       "model_id": "7330de6dc2c6421caa023a410cdd7f95",
       "version_major": 2,
       "version_minor": 0
      },
      "text/plain": [
       "train-00000-of-00082.parquet:   0%|          | 0.00/638M [00:00<?, ?B/s]"
      ]
     },
     "metadata": {},
     "output_type": "display_data"
    },
    {
     "data": {
      "application/vnd.jupyter.widget-view+json": {
       "model_id": "ec7ed7f2492d4b2bb78d0c0eade719ef",
       "version_major": 2,
       "version_minor": 0
      },
      "text/plain": [
       "train-00001-of-00082.parquet:   0%|          | 0.00/652M [00:00<?, ?B/s]"
      ]
     },
     "metadata": {},
     "output_type": "display_data"
    },
    {
     "data": {
      "application/vnd.jupyter.widget-view+json": {
       "model_id": "036913b79a0b4b298068cfb4be123155",
       "version_major": 2,
       "version_minor": 0
      },
      "text/plain": [
       "train-00002-of-00082.parquet:   0%|          | 0.00/632M [00:00<?, ?B/s]"
      ]
     },
     "metadata": {},
     "output_type": "display_data"
    },
    {
     "data": {
      "application/vnd.jupyter.widget-view+json": {
       "model_id": "8a9bc90d7db94667a91711c6937cd096",
       "version_major": 2,
       "version_minor": 0
      },
      "text/plain": [
       "train-00003-of-00082.parquet:   0%|          | 0.00/637M [00:00<?, ?B/s]"
      ]
     },
     "metadata": {},
     "output_type": "display_data"
    },
    {
     "data": {
      "application/vnd.jupyter.widget-view+json": {
       "model_id": "c75326f12a394543b0cecaae410aa344",
       "version_major": 2,
       "version_minor": 0
      },
      "text/plain": [
       "train-00004-of-00082.parquet:   0%|          | 0.00/619M [00:00<?, ?B/s]"
      ]
     },
     "metadata": {},
     "output_type": "display_data"
    },
    {
     "data": {
      "application/vnd.jupyter.widget-view+json": {
       "model_id": "bdbb77a6f5c14db69d82f66dabab7a3e",
       "version_major": 2,
       "version_minor": 0
      },
      "text/plain": [
       "train-00005-of-00082.parquet:   0%|          | 0.00/657M [00:00<?, ?B/s]"
      ]
     },
     "metadata": {},
     "output_type": "display_data"
    },
    {
     "data": {
      "application/vnd.jupyter.widget-view+json": {
       "model_id": "751895220d1e4ed5bb0d635f9680c613",
       "version_major": 2,
       "version_minor": 0
      },
      "text/plain": [
       "train-00006-of-00082.parquet:   0%|          | 0.00/625M [00:00<?, ?B/s]"
      ]
     },
     "metadata": {},
     "output_type": "display_data"
    },
    {
     "data": {
      "application/vnd.jupyter.widget-view+json": {
       "model_id": "07f68f3b22f84e969b3cfacd5051c096",
       "version_major": 2,
       "version_minor": 0
      },
      "text/plain": [
       "train-00007-of-00082.parquet:   0%|          | 0.00/621M [00:00<?, ?B/s]"
      ]
     },
     "metadata": {},
     "output_type": "display_data"
    },
    {
     "data": {
      "application/vnd.jupyter.widget-view+json": {
       "model_id": "bc896a4769f74edb93ac4cf6d7a22dfd",
       "version_major": 2,
       "version_minor": 0
      },
      "text/plain": [
       "train-00008-of-00082.parquet:   0%|          | 0.00/642M [00:00<?, ?B/s]"
      ]
     },
     "metadata": {},
     "output_type": "display_data"
    },
    {
     "data": {
      "application/vnd.jupyter.widget-view+json": {
       "model_id": "0351b9353bcf478899471294af22ed0e",
       "version_major": 2,
       "version_minor": 0
      },
      "text/plain": [
       "train-00009-of-00082.parquet:   0%|          | 0.00/682M [00:00<?, ?B/s]"
      ]
     },
     "metadata": {},
     "output_type": "display_data"
    },
    {
     "data": {
      "application/vnd.jupyter.widget-view+json": {
       "model_id": "e97d57f86eed4b20b152c7d24d281a05",
       "version_major": 2,
       "version_minor": 0
      },
      "text/plain": [
       "train-00010-of-00082.parquet:   0%|          | 0.00/643M [00:00<?, ?B/s]"
      ]
     },
     "metadata": {},
     "output_type": "display_data"
    },
    {
     "data": {
      "application/vnd.jupyter.widget-view+json": {
       "model_id": "b62af0d8940b451782c5773c6c80e637",
       "version_major": 2,
       "version_minor": 0
      },
      "text/plain": [
       "train-00011-of-00082.parquet:   0%|          | 0.00/655M [00:00<?, ?B/s]"
      ]
     },
     "metadata": {},
     "output_type": "display_data"
    },
    {
     "data": {
      "application/vnd.jupyter.widget-view+json": {
       "model_id": "e5f5781bcf3749378aa4a44f47af8462",
       "version_major": 2,
       "version_minor": 0
      },
      "text/plain": [
       "train-00012-of-00082.parquet:   0%|          | 0.00/642M [00:00<?, ?B/s]"
      ]
     },
     "metadata": {},
     "output_type": "display_data"
    },
    {
     "data": {
      "application/vnd.jupyter.widget-view+json": {
       "model_id": "8a94f50d3cf944f197b4a64cb1611c84",
       "version_major": 2,
       "version_minor": 0
      },
      "text/plain": [
       "train-00013-of-00082.parquet:   0%|          | 0.00/620M [00:00<?, ?B/s]"
      ]
     },
     "metadata": {},
     "output_type": "display_data"
    },
    {
     "data": {
      "application/vnd.jupyter.widget-view+json": {
       "model_id": "02aca2fe04764144b6eeec22ade6c680",
       "version_major": 2,
       "version_minor": 0
      },
      "text/plain": [
       "train-00014-of-00082.parquet:   0%|          | 0.00/647M [00:00<?, ?B/s]"
      ]
     },
     "metadata": {},
     "output_type": "display_data"
    },
    {
     "data": {
      "application/vnd.jupyter.widget-view+json": {
       "model_id": "783f4cf7054441d9b8ac4ff6cea1a0f5",
       "version_major": 2,
       "version_minor": 0
      },
      "text/plain": [
       "train-00015-of-00082.parquet:   0%|          | 0.00/616M [00:00<?, ?B/s]"
      ]
     },
     "metadata": {},
     "output_type": "display_data"
    },
    {
     "data": {
      "application/vnd.jupyter.widget-view+json": {
       "model_id": "0ce90080bd2948ca857d26bfcb15a90d",
       "version_major": 2,
       "version_minor": 0
      },
      "text/plain": [
       "train-00016-of-00082.parquet:   0%|          | 0.00/638M [00:00<?, ?B/s]"
      ]
     },
     "metadata": {},
     "output_type": "display_data"
    },
    {
     "data": {
      "application/vnd.jupyter.widget-view+json": {
       "model_id": "59e60dea85d94ea885f9f7e809d7bc81",
       "version_major": 2,
       "version_minor": 0
      },
      "text/plain": [
       "train-00017-of-00082.parquet:   0%|          | 0.00/624M [00:00<?, ?B/s]"
      ]
     },
     "metadata": {},
     "output_type": "display_data"
    },
    {
     "data": {
      "application/vnd.jupyter.widget-view+json": {
       "model_id": "df2f99e969e64dca83649c2e647e794c",
       "version_major": 2,
       "version_minor": 0
      },
      "text/plain": [
       "train-00018-of-00082.parquet:   0%|          | 0.00/626M [00:00<?, ?B/s]"
      ]
     },
     "metadata": {},
     "output_type": "display_data"
    },
    {
     "data": {
      "application/vnd.jupyter.widget-view+json": {
       "model_id": "c581322ab54d456b8958bf03cd8abe63",
       "version_major": 2,
       "version_minor": 0
      },
      "text/plain": [
       "train-00019-of-00082.parquet:   0%|          | 0.00/646M [00:00<?, ?B/s]"
      ]
     },
     "metadata": {},
     "output_type": "display_data"
    },
    {
     "data": {
      "application/vnd.jupyter.widget-view+json": {
       "model_id": "12f821b718c448eaa275017a1e1896c7",
       "version_major": 2,
       "version_minor": 0
      },
      "text/plain": [
       "train-00020-of-00082.parquet:   0%|          | 0.00/656M [00:00<?, ?B/s]"
      ]
     },
     "metadata": {},
     "output_type": "display_data"
    },
    {
     "data": {
      "application/vnd.jupyter.widget-view+json": {
       "model_id": "2025a0fa05d44471acfeb0b0e11a606f",
       "version_major": 2,
       "version_minor": 0
      },
      "text/plain": [
       "train-00021-of-00082.parquet:   0%|          | 0.00/638M [00:00<?, ?B/s]"
      ]
     },
     "metadata": {},
     "output_type": "display_data"
    },
    {
     "data": {
      "application/vnd.jupyter.widget-view+json": {
       "model_id": "5a71b839e10e40ea8b8165ef20127dc2",
       "version_major": 2,
       "version_minor": 0
      },
      "text/plain": [
       "train-00022-of-00082.parquet:   0%|          | 0.00/639M [00:00<?, ?B/s]"
      ]
     },
     "metadata": {},
     "output_type": "display_data"
    },
    {
     "data": {
      "application/vnd.jupyter.widget-view+json": {
       "model_id": "25c33851411546b1a75ed17f375af93f",
       "version_major": 2,
       "version_minor": 0
      },
      "text/plain": [
       "train-00023-of-00082.parquet:   0%|          | 0.00/624M [00:00<?, ?B/s]"
      ]
     },
     "metadata": {},
     "output_type": "display_data"
    },
    {
     "data": {
      "application/vnd.jupyter.widget-view+json": {
       "model_id": "67851f3082ae47a08cad587041a453df",
       "version_major": 2,
       "version_minor": 0
      },
      "text/plain": [
       "train-00024-of-00082.parquet:   0%|          | 0.00/645M [00:00<?, ?B/s]"
      ]
     },
     "metadata": {},
     "output_type": "display_data"
    },
    {
     "data": {
      "application/vnd.jupyter.widget-view+json": {
       "model_id": "3f6574a507ce49dc87517a5691e300cc",
       "version_major": 2,
       "version_minor": 0
      },
      "text/plain": [
       "train-00025-of-00082.parquet:   0%|          | 0.00/602M [00:00<?, ?B/s]"
      ]
     },
     "metadata": {},
     "output_type": "display_data"
    },
    {
     "data": {
      "application/vnd.jupyter.widget-view+json": {
       "model_id": "65f373f580dd4c85a0c3b1c90346cced",
       "version_major": 2,
       "version_minor": 0
      },
      "text/plain": [
       "train-00026-of-00082.parquet:   0%|          | 0.00/614M [00:00<?, ?B/s]"
      ]
     },
     "metadata": {},
     "output_type": "display_data"
    },
    {
     "data": {
      "application/vnd.jupyter.widget-view+json": {
       "model_id": "d5231a3d0bde45dba16b418b16e6469e",
       "version_major": 2,
       "version_minor": 0
      },
      "text/plain": [
       "train-00027-of-00082.parquet:   0%|          | 0.00/629M [00:00<?, ?B/s]"
      ]
     },
     "metadata": {},
     "output_type": "display_data"
    },
    {
     "data": {
      "application/vnd.jupyter.widget-view+json": {
       "model_id": "5d9b6e752b894a80b729e696901ec04f",
       "version_major": 2,
       "version_minor": 0
      },
      "text/plain": [
       "train-00028-of-00082.parquet:   0%|          | 0.00/669M [00:00<?, ?B/s]"
      ]
     },
     "metadata": {},
     "output_type": "display_data"
    },
    {
     "data": {
      "application/vnd.jupyter.widget-view+json": {
       "model_id": "5d3910aae691465b82213fb6b028f39c",
       "version_major": 2,
       "version_minor": 0
      },
      "text/plain": [
       "train-00029-of-00082.parquet:   0%|          | 0.00/631M [00:00<?, ?B/s]"
      ]
     },
     "metadata": {},
     "output_type": "display_data"
    },
    {
     "data": {
      "application/vnd.jupyter.widget-view+json": {
       "model_id": "8e3b90d09a3748468224a3a9b901419a",
       "version_major": 2,
       "version_minor": 0
      },
      "text/plain": [
       "train-00030-of-00082.parquet:   0%|          | 0.00/649M [00:00<?, ?B/s]"
      ]
     },
     "metadata": {},
     "output_type": "display_data"
    },
    {
     "data": {
      "application/vnd.jupyter.widget-view+json": {
       "model_id": "6e427bbbcea147c797164308339006e1",
       "version_major": 2,
       "version_minor": 0
      },
      "text/plain": [
       "train-00031-of-00082.parquet:   0%|          | 0.00/644M [00:00<?, ?B/s]"
      ]
     },
     "metadata": {},
     "output_type": "display_data"
    },
    {
     "data": {
      "application/vnd.jupyter.widget-view+json": {
       "model_id": "c4b6fa1c9ca645e7bb803ba509d9ca92",
       "version_major": 2,
       "version_minor": 0
      },
      "text/plain": [
       "train-00032-of-00082.parquet:   0%|          | 0.00/654M [00:00<?, ?B/s]"
      ]
     },
     "metadata": {},
     "output_type": "display_data"
    },
    {
     "data": {
      "application/vnd.jupyter.widget-view+json": {
       "model_id": "a64ac480a59e49d2bf6501438200500f",
       "version_major": 2,
       "version_minor": 0
      },
      "text/plain": [
       "train-00033-of-00082.parquet:   0%|          | 0.00/632M [00:00<?, ?B/s]"
      ]
     },
     "metadata": {},
     "output_type": "display_data"
    },
    {
     "data": {
      "application/vnd.jupyter.widget-view+json": {
       "model_id": "dcc653d647d14853899822105c0bcedf",
       "version_major": 2,
       "version_minor": 0
      },
      "text/plain": [
       "train-00034-of-00082.parquet:   0%|          | 0.00/654M [00:00<?, ?B/s]"
      ]
     },
     "metadata": {},
     "output_type": "display_data"
    },
    {
     "data": {
      "application/vnd.jupyter.widget-view+json": {
       "model_id": "dba3494c36d54905a59f87eeb2c38bb6",
       "version_major": 2,
       "version_minor": 0
      },
      "text/plain": [
       "train-00035-of-00082.parquet:   0%|          | 0.00/615M [00:00<?, ?B/s]"
      ]
     },
     "metadata": {},
     "output_type": "display_data"
    },
    {
     "data": {
      "application/vnd.jupyter.widget-view+json": {
       "model_id": "e5da0572e2ae4d36889ee2d05dbcfd17",
       "version_major": 2,
       "version_minor": 0
      },
      "text/plain": [
       "train-00036-of-00082.parquet:   0%|          | 0.00/628M [00:00<?, ?B/s]"
      ]
     },
     "metadata": {},
     "output_type": "display_data"
    },
    {
     "data": {
      "application/vnd.jupyter.widget-view+json": {
       "model_id": "8fa355eecc524eb785f9c5cbd76cd768",
       "version_major": 2,
       "version_minor": 0
      },
      "text/plain": [
       "train-00037-of-00082.parquet:   0%|          | 0.00/648M [00:00<?, ?B/s]"
      ]
     },
     "metadata": {},
     "output_type": "display_data"
    },
    {
     "data": {
      "application/vnd.jupyter.widget-view+json": {
       "model_id": "d59dea78dd11425c8695db2007964015",
       "version_major": 2,
       "version_minor": 0
      },
      "text/plain": [
       "train-00038-of-00082.parquet:   0%|          | 0.00/644M [00:00<?, ?B/s]"
      ]
     },
     "metadata": {},
     "output_type": "display_data"
    },
    {
     "data": {
      "application/vnd.jupyter.widget-view+json": {
       "model_id": "d893024337ec4efbb146da1b3d2bf607",
       "version_major": 2,
       "version_minor": 0
      },
      "text/plain": [
       "train-00039-of-00082.parquet:   0%|          | 0.00/638M [00:00<?, ?B/s]"
      ]
     },
     "metadata": {},
     "output_type": "display_data"
    },
    {
     "data": {
      "application/vnd.jupyter.widget-view+json": {
       "model_id": "6c7ee9c578214837836dc4822b9e9ad4",
       "version_major": 2,
       "version_minor": 0
      },
      "text/plain": [
       "train-00040-of-00082.parquet:   0%|          | 0.00/623M [00:00<?, ?B/s]"
      ]
     },
     "metadata": {},
     "output_type": "display_data"
    },
    {
     "data": {
      "application/vnd.jupyter.widget-view+json": {
       "model_id": "70a634101fc14895866b1b33de69beb4",
       "version_major": 2,
       "version_minor": 0
      },
      "text/plain": [
       "train-00041-of-00082.parquet:   0%|          | 0.00/655M [00:00<?, ?B/s]"
      ]
     },
     "metadata": {},
     "output_type": "display_data"
    },
    {
     "data": {
      "application/vnd.jupyter.widget-view+json": {
       "model_id": "2e8a220ee8e84c8aafe3d0cbcae780da",
       "version_major": 2,
       "version_minor": 0
      },
      "text/plain": [
       "train-00042-of-00082.parquet:   0%|          | 0.00/673M [00:00<?, ?B/s]"
      ]
     },
     "metadata": {},
     "output_type": "display_data"
    },
    {
     "data": {
      "application/vnd.jupyter.widget-view+json": {
       "model_id": "fcfb466418a247ce81bf807d00de1f57",
       "version_major": 2,
       "version_minor": 0
      },
      "text/plain": [
       "train-00043-of-00082.parquet:   0%|          | 0.00/649M [00:00<?, ?B/s]"
      ]
     },
     "metadata": {},
     "output_type": "display_data"
    },
    {
     "data": {
      "application/vnd.jupyter.widget-view+json": {
       "model_id": "b1babb57c46648f68cc47f53ad646912",
       "version_major": 2,
       "version_minor": 0
      },
      "text/plain": [
       "train-00044-of-00082.parquet:   0%|          | 0.00/654M [00:00<?, ?B/s]"
      ]
     },
     "metadata": {},
     "output_type": "display_data"
    },
    {
     "data": {
      "application/vnd.jupyter.widget-view+json": {
       "model_id": "410c94b0bfb74d28abebce0b2ebe1399",
       "version_major": 2,
       "version_minor": 0
      },
      "text/plain": [
       "train-00045-of-00082.parquet:   0%|          | 0.00/676M [00:00<?, ?B/s]"
      ]
     },
     "metadata": {},
     "output_type": "display_data"
    },
    {
     "data": {
      "application/vnd.jupyter.widget-view+json": {
       "model_id": "fa911f86282e403e8b12910f81470bba",
       "version_major": 2,
       "version_minor": 0
      },
      "text/plain": [
       "train-00046-of-00082.parquet:   0%|          | 0.00/654M [00:00<?, ?B/s]"
      ]
     },
     "metadata": {},
     "output_type": "display_data"
    },
    {
     "data": {
      "application/vnd.jupyter.widget-view+json": {
       "model_id": "8c0c7cd97d024376a092b3d2dee03b5a",
       "version_major": 2,
       "version_minor": 0
      },
      "text/plain": [
       "train-00047-of-00082.parquet:   0%|          | 0.00/630M [00:00<?, ?B/s]"
      ]
     },
     "metadata": {},
     "output_type": "display_data"
    },
    {
     "data": {
      "application/vnd.jupyter.widget-view+json": {
       "model_id": "c70d74328b5e4f33aef2dd824c9b79da",
       "version_major": 2,
       "version_minor": 0
      },
      "text/plain": [
       "train-00048-of-00082.parquet:   0%|          | 0.00/616M [00:00<?, ?B/s]"
      ]
     },
     "metadata": {},
     "output_type": "display_data"
    },
    {
     "data": {
      "application/vnd.jupyter.widget-view+json": {
       "model_id": "2f3eb1938b7f40fc8aa0cad8e3e8d931",
       "version_major": 2,
       "version_minor": 0
      },
      "text/plain": [
       "train-00049-of-00082.parquet:   0%|          | 0.00/634M [00:00<?, ?B/s]"
      ]
     },
     "metadata": {},
     "output_type": "display_data"
    },
    {
     "data": {
      "application/vnd.jupyter.widget-view+json": {
       "model_id": "f8b54de110b04c848987fb75678bead6",
       "version_major": 2,
       "version_minor": 0
      },
      "text/plain": [
       "train-00050-of-00082.parquet:   0%|          | 0.00/638M [00:00<?, ?B/s]"
      ]
     },
     "metadata": {},
     "output_type": "display_data"
    },
    {
     "data": {
      "application/vnd.jupyter.widget-view+json": {
       "model_id": "65e18f0f77a54e3b938011d14c9a59cb",
       "version_major": 2,
       "version_minor": 0
      },
      "text/plain": [
       "train-00051-of-00082.parquet:   0%|          | 0.00/658M [00:00<?, ?B/s]"
      ]
     },
     "metadata": {},
     "output_type": "display_data"
    },
    {
     "data": {
      "application/vnd.jupyter.widget-view+json": {
       "model_id": "4ca013e9d8b444ddbaff92f789070072",
       "version_major": 2,
       "version_minor": 0
      },
      "text/plain": [
       "train-00052-of-00082.parquet:   0%|          | 0.00/674M [00:00<?, ?B/s]"
      ]
     },
     "metadata": {},
     "output_type": "display_data"
    },
    {
     "data": {
      "application/vnd.jupyter.widget-view+json": {
       "model_id": "10fc9b053f5549e3b813f2ee0f1c1d46",
       "version_major": 2,
       "version_minor": 0
      },
      "text/plain": [
       "train-00053-of-00082.parquet:   0%|          | 0.00/649M [00:00<?, ?B/s]"
      ]
     },
     "metadata": {},
     "output_type": "display_data"
    },
    {
     "data": {
      "application/vnd.jupyter.widget-view+json": {
       "model_id": "b7258e984c044c99a9d19a7d35269fde",
       "version_major": 2,
       "version_minor": 0
      },
      "text/plain": [
       "train-00054-of-00082.parquet:   0%|          | 0.00/623M [00:00<?, ?B/s]"
      ]
     },
     "metadata": {},
     "output_type": "display_data"
    },
    {
     "data": {
      "application/vnd.jupyter.widget-view+json": {
       "model_id": "24f2941abb1d4cd1986546a3f741d370",
       "version_major": 2,
       "version_minor": 0
      },
      "text/plain": [
       "train-00055-of-00082.parquet:   0%|          | 0.00/656M [00:00<?, ?B/s]"
      ]
     },
     "metadata": {},
     "output_type": "display_data"
    },
    {
     "data": {
      "application/vnd.jupyter.widget-view+json": {
       "model_id": "e229baba884d48ba915e3c8844c8f9c2",
       "version_major": 2,
       "version_minor": 0
      },
      "text/plain": [
       "train-00056-of-00082.parquet:   0%|          | 0.00/662M [00:00<?, ?B/s]"
      ]
     },
     "metadata": {},
     "output_type": "display_data"
    },
    {
     "data": {
      "application/vnd.jupyter.widget-view+json": {
       "model_id": "86d153fbcb0d4366b6b0f360cde8c8e3",
       "version_major": 2,
       "version_minor": 0
      },
      "text/plain": [
       "train-00057-of-00082.parquet:   0%|          | 0.00/640M [00:00<?, ?B/s]"
      ]
     },
     "metadata": {},
     "output_type": "display_data"
    },
    {
     "data": {
      "application/vnd.jupyter.widget-view+json": {
       "model_id": "205686190f834d4698f51fd040491062",
       "version_major": 2,
       "version_minor": 0
      },
      "text/plain": [
       "train-00058-of-00082.parquet:   0%|          | 0.00/647M [00:00<?, ?B/s]"
      ]
     },
     "metadata": {},
     "output_type": "display_data"
    },
    {
     "data": {
      "application/vnd.jupyter.widget-view+json": {
       "model_id": "1049739c1e9547f9908bf15aa7f8687f",
       "version_major": 2,
       "version_minor": 0
      },
      "text/plain": [
       "train-00059-of-00082.parquet:   0%|          | 0.00/617M [00:00<?, ?B/s]"
      ]
     },
     "metadata": {},
     "output_type": "display_data"
    },
    {
     "data": {
      "application/vnd.jupyter.widget-view+json": {
       "model_id": "1191443c761a459a96078d5c8db6b839",
       "version_major": 2,
       "version_minor": 0
      },
      "text/plain": [
       "train-00060-of-00082.parquet:   0%|          | 0.00/635M [00:00<?, ?B/s]"
      ]
     },
     "metadata": {},
     "output_type": "display_data"
    },
    {
     "data": {
      "application/vnd.jupyter.widget-view+json": {
       "model_id": "96155f5d3f924c81ad5540a13eaeea99",
       "version_major": 2,
       "version_minor": 0
      },
      "text/plain": [
       "train-00061-of-00082.parquet:   0%|          | 0.00/659M [00:00<?, ?B/s]"
      ]
     },
     "metadata": {},
     "output_type": "display_data"
    },
    {
     "data": {
      "application/vnd.jupyter.widget-view+json": {
       "model_id": "a9a5d7b3fa744964ad0b26c1455d4769",
       "version_major": 2,
       "version_minor": 0
      },
      "text/plain": [
       "train-00062-of-00082.parquet:   0%|          | 0.00/640M [00:00<?, ?B/s]"
      ]
     },
     "metadata": {},
     "output_type": "display_data"
    },
    {
     "data": {
      "application/vnd.jupyter.widget-view+json": {
       "model_id": "217711e829fd40ba9508724f27b5be66",
       "version_major": 2,
       "version_minor": 0
      },
      "text/plain": [
       "train-00063-of-00082.parquet:   0%|          | 0.00/631M [00:00<?, ?B/s]"
      ]
     },
     "metadata": {},
     "output_type": "display_data"
    },
    {
     "data": {
      "application/vnd.jupyter.widget-view+json": {
       "model_id": "8cb1edd177a84604bc162bc85d805007",
       "version_major": 2,
       "version_minor": 0
      },
      "text/plain": [
       "train-00064-of-00082.parquet:   0%|          | 0.00/627M [00:00<?, ?B/s]"
      ]
     },
     "metadata": {},
     "output_type": "display_data"
    },
    {
     "data": {
      "application/vnd.jupyter.widget-view+json": {
       "model_id": "ac6a9a46684a4ac5ad95391fe77c6eec",
       "version_major": 2,
       "version_minor": 0
      },
      "text/plain": [
       "train-00065-of-00082.parquet:   0%|          | 0.00/650M [00:00<?, ?B/s]"
      ]
     },
     "metadata": {},
     "output_type": "display_data"
    },
    {
     "data": {
      "application/vnd.jupyter.widget-view+json": {
       "model_id": "eaa2a240920949bf92c00e5d995029d6",
       "version_major": 2,
       "version_minor": 0
      },
      "text/plain": [
       "train-00066-of-00082.parquet:   0%|          | 0.00/627M [00:00<?, ?B/s]"
      ]
     },
     "metadata": {},
     "output_type": "display_data"
    },
    {
     "data": {
      "application/vnd.jupyter.widget-view+json": {
       "model_id": "9bd5a25fc2ad497baa96fadf351a8a78",
       "version_major": 2,
       "version_minor": 0
      },
      "text/plain": [
       "train-00067-of-00082.parquet:   0%|          | 0.00/629M [00:00<?, ?B/s]"
      ]
     },
     "metadata": {},
     "output_type": "display_data"
    },
    {
     "data": {
      "application/vnd.jupyter.widget-view+json": {
       "model_id": "6f9bed583f634590a6bdb152cfaf4658",
       "version_major": 2,
       "version_minor": 0
      },
      "text/plain": [
       "train-00068-of-00082.parquet:   0%|          | 0.00/628M [00:00<?, ?B/s]"
      ]
     },
     "metadata": {},
     "output_type": "display_data"
    },
    {
     "data": {
      "application/vnd.jupyter.widget-view+json": {
       "model_id": "6346e99c4a4441358942e90770cb5ab1",
       "version_major": 2,
       "version_minor": 0
      },
      "text/plain": [
       "train-00069-of-00082.parquet:   0%|          | 0.00/629M [00:00<?, ?B/s]"
      ]
     },
     "metadata": {},
     "output_type": "display_data"
    },
    {
     "data": {
      "application/vnd.jupyter.widget-view+json": {
       "model_id": "9fb50f501df641958aa1a00453e73e6a",
       "version_major": 2,
       "version_minor": 0
      },
      "text/plain": [
       "train-00070-of-00082.parquet:   0%|          | 0.00/638M [00:00<?, ?B/s]"
      ]
     },
     "metadata": {},
     "output_type": "display_data"
    },
    {
     "data": {
      "application/vnd.jupyter.widget-view+json": {
       "model_id": "176ef93dd53b40c8b20e035901d15688",
       "version_major": 2,
       "version_minor": 0
      },
      "text/plain": [
       "train-00071-of-00082.parquet:   0%|          | 0.00/627M [00:00<?, ?B/s]"
      ]
     },
     "metadata": {},
     "output_type": "display_data"
    },
    {
     "data": {
      "application/vnd.jupyter.widget-view+json": {
       "model_id": "24d69ff8d3ce40388685399e208f58f2",
       "version_major": 2,
       "version_minor": 0
      },
      "text/plain": [
       "train-00072-of-00082.parquet:   0%|          | 0.00/646M [00:00<?, ?B/s]"
      ]
     },
     "metadata": {},
     "output_type": "display_data"
    },
    {
     "data": {
      "application/vnd.jupyter.widget-view+json": {
       "model_id": "a70f9dedad924cdd8678dd688cca3343",
       "version_major": 2,
       "version_minor": 0
      },
      "text/plain": [
       "train-00073-of-00082.parquet:   0%|          | 0.00/674M [00:00<?, ?B/s]"
      ]
     },
     "metadata": {},
     "output_type": "display_data"
    },
    {
     "data": {
      "application/vnd.jupyter.widget-view+json": {
       "model_id": "b5bab00710684476aa390cd6de91a846",
       "version_major": 2,
       "version_minor": 0
      },
      "text/plain": [
       "train-00074-of-00082.parquet:   0%|          | 0.00/638M [00:00<?, ?B/s]"
      ]
     },
     "metadata": {},
     "output_type": "display_data"
    },
    {
     "data": {
      "application/vnd.jupyter.widget-view+json": {
       "model_id": "97ca8f2955bf4c249b9b4e5dc453e3a1",
       "version_major": 2,
       "version_minor": 0
      },
      "text/plain": [
       "train-00075-of-00082.parquet:   0%|          | 0.00/644M [00:00<?, ?B/s]"
      ]
     },
     "metadata": {},
     "output_type": "display_data"
    },
    {
     "data": {
      "application/vnd.jupyter.widget-view+json": {
       "model_id": "8159290a723f45929009aa553a8bce5e",
       "version_major": 2,
       "version_minor": 0
      },
      "text/plain": [
       "train-00076-of-00082.parquet:   0%|          | 0.00/633M [00:00<?, ?B/s]"
      ]
     },
     "metadata": {},
     "output_type": "display_data"
    },
    {
     "data": {
      "application/vnd.jupyter.widget-view+json": {
       "model_id": "c67bc6362add437bbc8650a3179aaf1a",
       "version_major": 2,
       "version_minor": 0
      },
      "text/plain": [
       "train-00077-of-00082.parquet:   0%|          | 0.00/618M [00:00<?, ?B/s]"
      ]
     },
     "metadata": {},
     "output_type": "display_data"
    },
    {
     "data": {
      "application/vnd.jupyter.widget-view+json": {
       "model_id": "45cbde3fb8474730bc2fbee3c576dbca",
       "version_major": 2,
       "version_minor": 0
      },
      "text/plain": [
       "train-00078-of-00082.parquet:   0%|          | 0.00/655M [00:00<?, ?B/s]"
      ]
     },
     "metadata": {},
     "output_type": "display_data"
    },
    {
     "data": {
      "application/vnd.jupyter.widget-view+json": {
       "model_id": "c67bc462a66645f2ace6c58236415879",
       "version_major": 2,
       "version_minor": 0
      },
      "text/plain": [
       "train-00079-of-00082.parquet:   0%|          | 0.00/629M [00:00<?, ?B/s]"
      ]
     },
     "metadata": {},
     "output_type": "display_data"
    },
    {
     "data": {
      "application/vnd.jupyter.widget-view+json": {
       "model_id": "282a2a5547d34392a653ec8c675e5dcf",
       "version_major": 2,
       "version_minor": 0
      },
      "text/plain": [
       "train-00080-of-00082.parquet:   0%|          | 0.00/652M [00:00<?, ?B/s]"
      ]
     },
     "metadata": {},
     "output_type": "display_data"
    },
    {
     "data": {
      "application/vnd.jupyter.widget-view+json": {
       "model_id": "cb156b9d6e6c4cc89271960a3516976b",
       "version_major": 2,
       "version_minor": 0
      },
      "text/plain": [
       "train-00081-of-00082.parquet:   0%|          | 0.00/633M [00:00<?, ?B/s]"
      ]
     },
     "metadata": {},
     "output_type": "display_data"
    },
    {
     "data": {
      "application/vnd.jupyter.widget-view+json": {
       "model_id": "b58148ec59d543c4bd810457d71b1998",
       "version_major": 2,
       "version_minor": 0
      },
      "text/plain": [
       "test-00000-of-00001.parquet:   0%|          | 0.00/220M [00:00<?, ?B/s]"
      ]
     },
     "metadata": {},
     "output_type": "display_data"
    },
    {
     "data": {
      "application/vnd.jupyter.widget-view+json": {
       "model_id": "d086ad0adf2a4471ae1af0890d87b412",
       "version_major": 2,
       "version_minor": 0
      },
      "text/plain": [
       "Generating train split:   0%|          | 0/118195 [00:00<?, ? examples/s]"
      ]
     },
     "metadata": {},
     "output_type": "display_data"
    },
    {
     "data": {
      "application/vnd.jupyter.widget-view+json": {
       "model_id": "7bf55375cfa24cdea0498c7bf403ab2f",
       "version_major": 2,
       "version_minor": 0
      },
      "text/plain": [
       "Generating test split:   0%|          | 0/500 [00:00<?, ? examples/s]"
      ]
     },
     "metadata": {},
     "output_type": "display_data"
    },
    {
     "data": {
      "application/vnd.jupyter.widget-view+json": {
       "model_id": "94c7dc836d1647cb92d993076bb5cdc8",
       "version_major": 2,
       "version_minor": 0
      },
      "text/plain": [
       "Loading dataset shards:   0%|          | 0/104 [00:00<?, ?it/s]"
      ]
     },
     "metadata": {},
     "output_type": "display_data"
    }
   ],
   "source": [
    "# ViDoRe ColPali dataset from https://huggingface.co/datasets/vidore/colpali_train_set\n",
    "vidore_datasets = load_dataset(\"vidore/colpali_train_set\")"
   ]
  },
  {
   "cell_type": "markdown",
   "metadata": {},
   "source": [
    "### Models"
   ]
  },
  {
   "cell_type": "markdown",
   "metadata": {},
   "source": [
    "#### Index"
   ]
  },
  {
   "cell_type": "code",
   "execution_count": null,
   "metadata": {},
   "outputs": [
    {
     "name": "stdout",
     "output_type": "stream",
     "text": [
      "Verbosity is set to 1 (active). Pass verbose=0 to make quieter.\n"
     ]
    },
    {
     "data": {
      "application/vnd.jupyter.widget-view+json": {
       "model_id": "0f55f27eb0f64fa2bfead50b1168952f",
       "version_major": 2,
       "version_minor": 0
      },
      "text/plain": [
       "Fetching 2 files:   0%|          | 0/2 [00:00<?, ?it/s]"
      ]
     },
     "metadata": {},
     "output_type": "display_data"
    },
    {
     "data": {
      "application/vnd.jupyter.widget-view+json": {
       "model_id": "75514277745e47c48b8646c19be26559",
       "version_major": 2,
       "version_minor": 0
      },
      "text/plain": [
       "Loading checkpoint shards:   0%|          | 0/2 [00:00<?, ?it/s]"
      ]
     },
     "metadata": {},
     "output_type": "display_data"
    }
   ],
   "source": [
    "# ViDoRe ColPali wrapped in byaldi from https://github.com/AnswerDotAI/byaldi\n",
    "indexing_model = ColPaliForRetrieval.from_pretrained(\"vidore/colpali-v1.3-hf\").to(\n",
    "    device\n",
    ")\n",
    "indexing_processor = ColPaliProcessor.from_pretrained(\"vidore/colpali-v1.3-hf\").to(\n",
    "    device\n",
    ")"
   ]
  },
  {
   "cell_type": "markdown",
   "metadata": {},
   "source": [
    "#### Generate"
   ]
  },
  {
   "cell_type": "code",
   "execution_count": null,
   "metadata": {},
   "outputs": [
    {
     "data": {
      "application/vnd.jupyter.widget-view+json": {
       "model_id": "b53db4fb09054c25bd85588f7042668a",
       "version_major": 2,
       "version_minor": 0
      },
      "text/plain": [
       "config.json:   0%|          | 0.00/5.07k [00:00<?, ?B/s]"
      ]
     },
     "metadata": {},
     "output_type": "display_data"
    },
    {
     "data": {
      "application/vnd.jupyter.widget-view+json": {
       "model_id": "ca508c7d40f1447e9061f2d6c27fa4ca",
       "version_major": 2,
       "version_minor": 0
      },
      "text/plain": [
       "model.safetensors.index.json:   0%|          | 0.00/89.4k [00:00<?, ?B/s]"
      ]
     },
     "metadata": {},
     "output_type": "display_data"
    },
    {
     "data": {
      "application/vnd.jupyter.widget-view+json": {
       "model_id": "953e91f73bbf47ff882d38f73f2c62e0",
       "version_major": 2,
       "version_minor": 0
      },
      "text/plain": [
       "Fetching 5 files:   0%|          | 0/5 [00:00<?, ?it/s]"
      ]
     },
     "metadata": {},
     "output_type": "display_data"
    },
    {
     "data": {
      "application/vnd.jupyter.widget-view+json": {
       "model_id": "df3f1abd08074f5d866a0cb649b741d8",
       "version_major": 2,
       "version_minor": 0
      },
      "text/plain": [
       "model-00002-of-00005.safetensors:   0%|          | 0.00/4.97G [00:00<?, ?B/s]"
      ]
     },
     "metadata": {},
     "output_type": "display_data"
    },
    {
     "data": {
      "application/vnd.jupyter.widget-view+json": {
       "model_id": "fe2a8535b3df4393bf05d57b795d8c5a",
       "version_major": 2,
       "version_minor": 0
      },
      "text/plain": [
       "model-00003-of-00005.safetensors:   0%|          | 0.00/4.92G [00:00<?, ?B/s]"
      ]
     },
     "metadata": {},
     "output_type": "display_data"
    },
    {
     "data": {
      "application/vnd.jupyter.widget-view+json": {
       "model_id": "df7a00f395bc4894b2cb41852f5b6c20",
       "version_major": 2,
       "version_minor": 0
      },
      "text/plain": [
       "model-00004-of-00005.safetensors:   0%|          | 0.00/5.00G [00:00<?, ?B/s]"
      ]
     },
     "metadata": {},
     "output_type": "display_data"
    },
    {
     "data": {
      "application/vnd.jupyter.widget-view+json": {
       "model_id": "123fab5a0d8d41fd9b531c66dd79f68e",
       "version_major": 2,
       "version_minor": 0
      },
      "text/plain": [
       "model-00001-of-00005.safetensors:   0%|          | 0.00/4.99G [00:00<?, ?B/s]"
      ]
     },
     "metadata": {},
     "output_type": "display_data"
    },
    {
     "data": {
      "application/vnd.jupyter.widget-view+json": {
       "model_id": "cfd88485e57e4f10b22783f955773f6c",
       "version_major": 2,
       "version_minor": 0
      },
      "text/plain": [
       "model-00005-of-00005.safetensors:   0%|          | 0.00/1.47G [00:00<?, ?B/s]"
      ]
     },
     "metadata": {},
     "output_type": "display_data"
    },
    {
     "name": "stderr",
     "output_type": "stream",
     "text": [
      "The model weights are not tied. Please use the `tie_weights` method before using the `infer_auto_device` function.\n"
     ]
    },
    {
     "data": {
      "application/vnd.jupyter.widget-view+json": {
       "model_id": "1eaad2b778014983911de61397a49e22",
       "version_major": 2,
       "version_minor": 0
      },
      "text/plain": [
       "Loading checkpoint shards:   0%|          | 0/5 [00:00<?, ?it/s]"
      ]
     },
     "metadata": {},
     "output_type": "display_data"
    },
    {
     "data": {
      "application/vnd.jupyter.widget-view+json": {
       "model_id": "5e6b5227771e48cc9f0f8ddd3c45b646",
       "version_major": 2,
       "version_minor": 0
      },
      "text/plain": [
       "generation_config.json:   0%|          | 0.00/215 [00:00<?, ?B/s]"
      ]
     },
     "metadata": {},
     "output_type": "display_data"
    },
    {
     "name": "stderr",
     "output_type": "stream",
     "text": [
      "Some parameters are on the meta device because they were offloaded to the disk.\n"
     ]
    },
    {
     "data": {
      "application/vnd.jupyter.widget-view+json": {
       "model_id": "b38bc5fa57ed493ebb53cb3a57af66e1",
       "version_major": 2,
       "version_minor": 0
      },
      "text/plain": [
       "preprocessor_config.json:   0%|          | 0.00/437 [00:00<?, ?B/s]"
      ]
     },
     "metadata": {},
     "output_type": "display_data"
    },
    {
     "data": {
      "application/vnd.jupyter.widget-view+json": {
       "model_id": "865d5496ccd64cbb93efdbd4b5e85467",
       "version_major": 2,
       "version_minor": 0
      },
      "text/plain": [
       "tokenizer_config.json:   0%|          | 0.00/55.8k [00:00<?, ?B/s]"
      ]
     },
     "metadata": {},
     "output_type": "display_data"
    },
    {
     "data": {
      "application/vnd.jupyter.widget-view+json": {
       "model_id": "a08a290cb4114ad2926bdc4f9fc11e80",
       "version_major": 2,
       "version_minor": 0
      },
      "text/plain": [
       "tokenizer.json:   0%|          | 0.00/9.09M [00:00<?, ?B/s]"
      ]
     },
     "metadata": {},
     "output_type": "display_data"
    },
    {
     "data": {
      "application/vnd.jupyter.widget-view+json": {
       "model_id": "6ee43e51bed74b7e8e0bcef2ecd79c92",
       "version_major": 2,
       "version_minor": 0
      },
      "text/plain": [
       "special_tokens_map.json:   0%|          | 0.00/454 [00:00<?, ?B/s]"
      ]
     },
     "metadata": {},
     "output_type": "display_data"
    },
    {
     "data": {
      "application/vnd.jupyter.widget-view+json": {
       "model_id": "ec3e5656be424cf48c9a268706be381d",
       "version_major": 2,
       "version_minor": 0
      },
      "text/plain": [
       "chat_template.json:   0%|          | 0.00/5.09k [00:00<?, ?B/s]"
      ]
     },
     "metadata": {},
     "output_type": "display_data"
    },
    {
     "name": "stderr",
     "output_type": "stream",
     "text": [
      "You shouldn't move a model that is dispatched using accelerate hooks.\n"
     ]
    },
    {
     "ename": "RuntimeError",
     "evalue": "You can't move a model that has some modules offloaded to cpu or disk.",
     "output_type": "error",
     "traceback": [
      "\u001b[31m---------------------------------------------------------------------------\u001b[39m",
      "\u001b[31mRuntimeError\u001b[39m                              Traceback (most recent call last)",
      "\u001b[36mCell\u001b[39m\u001b[36m \u001b[39m\u001b[32mIn[31]\u001b[39m\u001b[32m, line 12\u001b[39m\n\u001b[32m      4\u001b[39m generation_model = MllamaForConditionalGeneration.from_pretrained(\n\u001b[32m      5\u001b[39m     generation_model_id,\n\u001b[32m      6\u001b[39m     torch_dtype=torch.float16 \u001b[38;5;28;01mif\u001b[39;00m device != \u001b[33m'\u001b[39m\u001b[33mcpu\u001b[39m\u001b[33m'\u001b[39m \u001b[38;5;28;01melse\u001b[39;00m torch.float32,\n\u001b[32m      7\u001b[39m     device_map=\u001b[33m\"\u001b[39m\u001b[33mauto\u001b[39m\u001b[33m\"\u001b[39m,\n\u001b[32m      8\u001b[39m )\n\u001b[32m     10\u001b[39m processor = AutoProcessor.from_pretrained(generation_model_id)\n\u001b[32m---> \u001b[39m\u001b[32m12\u001b[39m \u001b[43mgeneration_model\u001b[49m\u001b[43m.\u001b[49m\u001b[43mto\u001b[49m\u001b[43m(\u001b[49m\u001b[43mdevice\u001b[49m\u001b[43m)\u001b[49m\n",
      "\u001b[36mFile \u001b[39m\u001b[32m~/repos/imperial/project/ms-project/projectenv/lib/python3.12/site-packages/accelerate/big_modeling.py:459\u001b[39m, in \u001b[36mdispatch_model.<locals>.add_warning.<locals>.wrapper\u001b[39m\u001b[34m(*args, **kwargs)\u001b[39m\n\u001b[32m    457\u001b[39m \u001b[38;5;28;01mfor\u001b[39;00m param \u001b[38;5;129;01min\u001b[39;00m model.parameters():\n\u001b[32m    458\u001b[39m     \u001b[38;5;28;01mif\u001b[39;00m param.device == torch.device(\u001b[33m\"\u001b[39m\u001b[33mmeta\u001b[39m\u001b[33m\"\u001b[39m):\n\u001b[32m--> \u001b[39m\u001b[32m459\u001b[39m         \u001b[38;5;28;01mraise\u001b[39;00m \u001b[38;5;167;01mRuntimeError\u001b[39;00m(\u001b[33m\"\u001b[39m\u001b[33mYou can\u001b[39m\u001b[33m'\u001b[39m\u001b[33mt move a model that has some modules offloaded to cpu or disk.\u001b[39m\u001b[33m\"\u001b[39m)\n\u001b[32m    460\u001b[39m \u001b[38;5;28;01mreturn\u001b[39;00m fn(*args, **kwargs)\n",
      "\u001b[31mRuntimeError\u001b[39m: You can't move a model that has some modules offloaded to cpu or disk."
     ]
    }
   ],
   "source": [
    "# Llama vision from https://huggingface.co/alpindale/Llama-3.2-11B-Vision-Instruct\n",
    "generation_model_id = \"meta-llama/Llama-3.2-11B-Vision-Instruct\"\n",
    "\n",
    "generation_model = MllamaForConditionalGeneration.from_pretrained(\n",
    "    generation_model_id,\n",
    "    torch_dtype=torch.float16 if device != \"cpu\" else torch.float32,\n",
    "    device_map=\"auto\",\n",
    ")\n",
    "\n",
    "generation_processor = AutoProcessor.from_pretrained(generation_model_id)\n",
    "\n",
    "generation_model.to(device)"
   ]
  },
  {
   "cell_type": "markdown",
   "metadata": {},
   "source": [
    "## ColPali RAG System"
   ]
  },
  {
   "cell_type": "markdown",
   "metadata": {},
   "source": [
    "### Ingestion"
   ]
  },
  {
   "cell_type": "markdown",
   "metadata": {},
   "source": [
    "#### Extract"
   ]
  },
  {
   "cell_type": "code",
   "execution_count": null,
   "metadata": {},
   "outputs": [
    {
     "name": "stdout",
     "output_type": "stream",
     "text": [
      "DatasetDict({\n",
      "    train: Dataset({\n",
      "        features: ['image', 'image_filename', 'query', 'answer', 'source', 'options', 'page', 'model', 'prompt', 'answer_type'],\n",
      "        num_rows: 118195\n",
      "    })\n",
      "    test: Dataset({\n",
      "        features: ['image', 'image_filename', 'query', 'answer', 'source', 'options', 'page', 'model', 'prompt', 'answer_type'],\n",
      "        num_rows: 500\n",
      "    })\n",
      "})\n"
     ]
    }
   ],
   "source": [
    "print(vidore_datasets)\n",
    "vidore_train_set = vidore_datasets[\"train\"]\n",
    "vidore_test_set = vidore_datasets[\"test\"]"
   ]
  },
  {
   "cell_type": "markdown",
   "metadata": {},
   "source": [
    "#### Transform"
   ]
  },
  {
   "cell_type": "code",
   "execution_count": null,
   "metadata": {},
   "outputs": [],
   "source": [
    "# TODO"
   ]
  },
  {
   "cell_type": "markdown",
   "metadata": {},
   "source": [
    "#### Index"
   ]
  },
  {
   "cell_type": "code",
   "execution_count": null,
   "metadata": {},
   "outputs": [
    {
     "name": "stdout",
     "output_type": "stream",
     "text": [
      "Index exported to .byaldi/document_index\n"
     ]
    }
   ],
   "source": [
    "# Index the documents in the folder\n",
    "folder_path = \"./test\"\n",
    "index_name = \"document_index\"\n",
    "\n",
    "if not os.path.exists(index_name):\n",
    "    indexing_model.index(\n",
    "        input_path=folder_path,\n",
    "        index_name=index_name,\n",
    "        store_collection_with_index=True,\n",
    "        overwrite=True,\n",
    "    )"
   ]
  },
  {
   "cell_type": "markdown",
   "metadata": {},
   "source": [
    "### Retrieval"
   ]
  },
  {
   "cell_type": "markdown",
   "metadata": {},
   "source": [
    "#### Retrieve"
   ]
  },
  {
   "cell_type": "code",
   "execution_count": null,
   "metadata": {},
   "outputs": [],
   "source": [
    "top_k = 5\n",
    "url = \"https://huggingface.co/datasets/huggingface/documentation-images/resolve/0052a70beed5bf71b92610a43a52df6d286cd5f3/diffusers/rabbit.jpg\"\n",
    "query_image = Image.open(requests.get(url, stream=True).raw)\n",
    "query_text = \"What is the name of the animal in the image?\"\n",
    "\n",
    "# Prepare query payload\n",
    "query = {\"image\": query_image, \"text\": query_text}\n",
    "results = indexing_model.retrieve(query=query, index_name=index_name, top_k=top_k)"
   ]
  },
  {
   "cell_type": "markdown",
   "metadata": {},
   "source": [
    "#### Generate"
   ]
  },
  {
   "cell_type": "code",
   "execution_count": null,
   "metadata": {},
   "outputs": [],
   "source": [
    "messages = [\n",
    "    {\n",
    "        \"role\": \"user\",\n",
    "        \"content\": [\n",
    "            {\"type\": \"image\"},\n",
    "            {\n",
    "                \"type\": \"text\",\n",
    "                \"text\": \"If I had to write a haiku for this one, it would be: \",\n",
    "            },\n",
    "        ],\n",
    "    }\n",
    "]\n",
    "input_text = generation_processor.apply_chat_template(\n",
    "    messages, add_generation_prompt=True\n",
    ")\n",
    "inputs = generation_processor(query_image, input_text, return_tensors=\"pt\").to(\n",
    "    generation_model.device\n",
    ")\n",
    "\n",
    "output = generation_model.generate(**inputs, max_new_tokens=512)\n",
    "print(generation_processor.decode(output[0], skip_special_tokens=True))"
   ]
  },
  {
   "cell_type": "markdown",
   "metadata": {},
   "source": [
    "## Evaluation with ViDoRe Datasets"
   ]
  },
  {
   "cell_type": "code",
   "execution_count": null,
   "metadata": {},
   "outputs": [
    {
     "data": {
      "application/vnd.jupyter.widget-view+json": {
       "model_id": "d9179e9a596a4767a2fda729ae195620",
       "version_major": 2,
       "version_minor": 0
      },
      "text/plain": [
       "Loading checkpoint shards:   0%|          | 0/2 [00:00<?, ?it/s]"
      ]
     },
     "metadata": {},
     "output_type": "display_data"
    },
    {
     "name": "stderr",
     "output_type": "stream",
     "text": [
      "Using a slow image processor as `use_fast` is unset and a slow processor was saved with this model. `use_fast=True` will be the default behavior in v4.52, even if the model was saved with a slow processor. This will result in minor differences in outputs. You'll still be able to use a slow processor with `use_fast=False`.\n",
      "The model weights are not tied. Please use the `tie_weights` method before using the `infer_auto_device` function.\n"
     ]
    },
    {
     "data": {
      "application/vnd.jupyter.widget-view+json": {
       "model_id": "85c68cf4a87e4468a4f881ed37149911",
       "version_major": 2,
       "version_minor": 0
      },
      "text/plain": [
       "Loading checkpoint shards:   0%|          | 0/5 [00:00<?, ?it/s]"
      ]
     },
     "metadata": {},
     "output_type": "display_data"
    },
    {
     "name": "stderr",
     "output_type": "stream",
     "text": [
      "Some parameters are on the meta device because they were offloaded to the disk.\n"
     ]
    }
   ],
   "source": [
    "# Load the ViDoRe ColPali training set\n",
    "ds = {\n",
    "    \"corpus\": load_dataset(\"vidore/colpali_train_set\", name=\"corpus\", split=\"test\"),\n",
    "    \"queries\": load_dataset(\"vidore/colpali_train_set\", name=\"queries\", split=\"test\"),\n",
    "    \"qrels\": load_dataset(\"vidore/colpali_train_set\", name=\"qrels\", split=\"test\"),\n",
    "}\n",
    "\n",
    "# Indexing Model and Processor\n",
    "indexing_model = ColPaliForRetrieval.from_pretrained(\"vidore/colpali-v1.3-hf\").to(\n",
    "    device\n",
    ")\n",
    "\n",
    "# Initialize the retirever\n",
    "retriever = ColPaliRetriever(\n",
    "    use_visual_embedding=True,\n",
    "    pretrained_model_name_or_path=indexing_model,\n",
    "    device=device,\n",
    ")\n",
    "\n",
    "# Initialize the Vision Retriever\n",
    "vision_retriever = VisionRetriever()\n",
    "\n",
    "# Initialize the evaluator QA\n",
    "evaluator_qa = ViDoReEvaluatorQA(vision_retriever=retriever)\n",
    "\n",
    "# Initialize the evaluator BEIR\n",
    "evaluator_beir = ViDoReEvaluatorBEIR(vision_retriever=retriever)\n",
    "\n",
    "# Evaluate\n",
    "# QA Dasataset\n",
    "metrics_dataset_qa = evaluator_qa.evaluate_dataset(\n",
    "    ds=ds,\n",
    "    batch_query=4,\n",
    "    batch_passage=4,\n",
    ")\n",
    "print(metrics_dataset_qa)\n",
    "\n",
    "# BEIR Dataset\n",
    "metrics_dataset_beir = evaluator_beir.evaluate_dataset(\n",
    "    ds=ds,\n",
    "    batch_query=4,\n",
    "    batch_passage=4,\n",
    ")\n",
    "print(metrics_dataset_beir)\n"
   ]
  },
  {
   "cell_type": "code",
   "execution_count": null,
   "metadata": {},
   "outputs": [],
   "source": [
    "from vidore_benchmark import evaluate_retriever\n",
    "\n",
    "# Define evaluation parameters\n",
    "model_class = \"colpali\"\n",
    "model_name = \"vidore/colpali-v1.3\"\n",
    "collection_name = \"vidore/docvqa_test_subsampled\"\n",
    "dataset_format = \"qa\"\n",
    "split = \"test\"\n",
    "\n",
    "# Execute evaluation\n",
    "metrics = evaluate_retriever(\n",
    "    model_class=model_class,\n",
    "    model_name=model_name,\n",
    "    collection_name=collection_name,\n",
    "    dataset_format=dataset_format,\n",
    "    split=split,\n",
    ")\n",
    "\n",
    "# Display evaluation metrics\n",
    "print(metrics)\n"
   ]
  },
  {
   "cell_type": "code",
   "execution_count": 3,
   "metadata": {},
   "outputs": [],
   "source": [
    "from datasets import load_dataset\n",
    "\n",
    "ds = load_dataset(\"vidore/docvqa_test_subsampled\")"
   ]
  },
  {
   "cell_type": "code",
   "execution_count": null,
   "metadata": {},
   "outputs": [
    {
     "data": {
      "application/vnd.jupyter.widget-view+json": {
       "model_id": "bcedc7ce2bff471c94a0cebe301e201f",
       "version_major": 2,
       "version_minor": 0
      },
      "text/plain": [
       "Fetching 2 files:   0%|          | 0/2 [00:00<?, ?it/s]"
      ]
     },
     "metadata": {},
     "output_type": "display_data"
    },
    {
     "data": {
      "application/vnd.jupyter.widget-view+json": {
       "model_id": "139408bd3cbb4178808439d8aa9153fc",
       "version_major": 2,
       "version_minor": 0
      },
      "text/plain": [
       "Loading checkpoint shards:   0%|          | 0/2 [00:00<?, ?it/s]"
      ]
     },
     "metadata": {},
     "output_type": "display_data"
    }
   ],
   "source": [
    "import json\n",
    "import torch\n",
    "from datasets import load_dataset\n",
    "from tqdm import tqdm\n",
    "\n",
    "from vidore_benchmark.retrievers import ColPaliRetriever\n",
    "from vidore_benchmark.evaluation.vidore_evaluators import ViDoReEvaluatorQA\n",
    "from vidore_benchmark.utils.data_utils import get_datasets_from_collection\n",
    "\n",
    "\n",
    "def test():\n",
    "    # Configuration\n",
    "    MODEL_NAME = \"vidore/colpali-v1.3\"\n",
    "    HF_COLLECTION = \"vidore/vidore-benchmark-667173f98e70a1c0fa4db00d\"  # ViDoRe v1 QA\n",
    "    SPLIT_NAME = \"test\"\n",
    "    BATCH_QUERY = 4\n",
    "    BATCH_PASSAGE = 4\n",
    "    # optional: you can tweak these for faster dataloader pre-batching:\n",
    "    PREBATCH_Q = BATCH_QUERY * 10\n",
    "    PREBATCH_P = BATCH_PASSAGE * 10\n",
    "\n",
    "    # Instantiate the ColPali retriever\n",
    "    retriever = ColPaliRetriever(\n",
    "        pretrained_model_name_or_path=MODEL_NAME,\n",
    "        device=\"auto\",\n",
    "        num_workers=4,\n",
    "    )\n",
    "\n",
    "    # Instantiate the ViDoRe QA evaluator\n",
    "    evaluator = ViDoReEvaluatorQA(vision_retriever=retriever)\n",
    "\n",
    "    # Fetch all dataset names in the HF collection\n",
    "    dataset_names = get_datasets_from_collection(HF_COLLECTION)\n",
    "\n",
    "    all_metrics = {}\n",
    "    for ds_name in tqdm(dataset_names, desc=\"Datasets\"):\n",
    "        # load the QA dataset (each row has `query`, `image`, `image_filename`, …)\n",
    "        ds = load_dataset(ds_name, split=SPLIT_NAME)\n",
    "\n",
    "        # run the full retrieve‐and‐score pipeline\n",
    "        metrics = evaluator.evaluate_dataset(\n",
    "            ds=ds,\n",
    "            batch_query=BATCH_QUERY,\n",
    "            batch_passage=BATCH_PASSAGE,\n",
    "            dataloader_prebatch_query=PREBATCH_Q,\n",
    "            dataloader_prebatch_passage=PREBATCH_P,\n",
    "        )\n",
    "        all_metrics[ds_name] = metrics\n",
    "\n",
    "    # ——— 5) Save and report —————————————————————————————————————\n",
    "    with open(\"colpali_vidore_v1_metrics.json\", \"w\") as f:\n",
    "        json.dump(all_metrics, f, indent=2)\n",
    "\n",
    "    print(json.dumps(all_metrics, indent=2))\n",
    "\n",
    "\n",
    "test()\n"
   ]
  },
  {
   "cell_type": "code",
   "execution_count": null,
   "metadata": {},
   "outputs": [
    {
     "ename": "NameError",
     "evalue": "name 'device' is not defined",
     "output_type": "error",
     "traceback": [
      "\u001b[31m---------------------------------------------------------------------------\u001b[39m",
      "\u001b[31mNameError\u001b[39m                                 Traceback (most recent call last)",
      "\u001b[36mCell\u001b[39m\u001b[36m \u001b[39m\u001b[32mIn[7]\u001b[39m\u001b[32m, line 10\u001b[39m\n\u001b[32m      4\u001b[39m \u001b[38;5;28;01mfrom\u001b[39;00m\u001b[38;5;250m \u001b[39m\u001b[34;01mtransformers\u001b[39;00m\u001b[38;5;250m \u001b[39m\u001b[38;5;28;01mimport\u001b[39;00m ColPaliForRetrieval, ColPaliProcessor\n\u001b[32m      6\u001b[39m model_name = \u001b[33m\"\u001b[39m\u001b[33mvidore/colpali-v1.3-hf\u001b[39m\u001b[33m\"\u001b[39m\n\u001b[32m      8\u001b[39m model = ColPaliForRetrieval.from_pretrained(\n\u001b[32m      9\u001b[39m     model_name,\n\u001b[32m---> \u001b[39m\u001b[32m10\u001b[39m     torch_dtype=torch.float16 \u001b[38;5;28;01mif\u001b[39;00m \u001b[43mdevice\u001b[49m != \u001b[33m'\u001b[39m\u001b[33mcpu\u001b[39m\u001b[33m'\u001b[39m \u001b[38;5;28;01melse\u001b[39;00m torch.float32,\n\u001b[32m     11\u001b[39m     device_map=\u001b[33m\"\u001b[39m\u001b[33mmps\u001b[39m\u001b[33m\"\u001b[39m,\n\u001b[32m     12\u001b[39m ).eval()\n\u001b[32m     14\u001b[39m processor = ColPaliProcessor.from_pretrained(model_name)\n\u001b[32m     16\u001b[39m \u001b[38;5;66;03m# Your inputs\u001b[39;00m\n",
      "\u001b[31mNameError\u001b[39m: name 'device' is not defined"
     ]
    }
   ],
   "source": [
    "import torch\n",
    "from PIL import Image\n",
    "\n",
    "from transformers import ColPaliForRetrieval, ColPaliProcessor\n",
    "\n",
    "model_name = \"vidore/colpali-v1.3-hf\"\n",
    "\n",
    "model = ColPaliForRetrieval.from_pretrained(\n",
    "    model_name,\n",
    "    torch_dtype=torch.float16 if device != \"cpu\" else torch.float32,\n",
    "    device_map=\"mps\",\n",
    ").eval()\n",
    "\n",
    "processor = ColPaliProcessor.from_pretrained(model_name)\n",
    "\n",
    "# Your inputs\n",
    "images = [\n",
    "    Image.new(\"RGB\", (32, 32), color=\"white\"),\n",
    "    Image.new(\"RGB\", (16, 16), color=\"black\"),\n",
    "]\n",
    "queries = [\n",
    "    \"What is the organizational structure for our R&D department?\",\n",
    "    \"Can you provide a breakdown of last year’s financial performance?\",\n",
    "]\n",
    "\n",
    "# Process the inputs\n",
    "batch_images = processor(images=images).to(model.device)\n",
    "batch_queries = processor(text=queries).to(model.device)\n",
    "\n",
    "# Forward pass\n",
    "with torch.no_grad():\n",
    "    image_embeddings = model(**batch_images)\n",
    "    query_embeddings = model(**batch_queries)\n",
    "\n",
    "# Score the queries against the images\n",
    "scores = processor.score_retrieval(\n",
    "    query_embeddings.embeddings, image_embeddings.embeddings\n",
    ")\n"
   ]
  },
  {
   "cell_type": "code",
   "execution_count": null,
   "metadata": {},
   "outputs": [],
   "source": [
    "evaluator = ViDoReEvaluatorQA(vision_retriever=retriever)"
   ]
  },
  {
   "cell_type": "code",
   "execution_count": null,
   "metadata": {},
   "outputs": [],
   "source": [
    "import torch\n",
    "from colpali_engine.models import ColIdefics3, ColIdefics3Processor\n",
    "from datasets import load_dataset\n",
    "\n",
    "from vidore_benchmark.evaluation.vidore_evaluators import ViDoReEvaluatorQA\n",
    "from vidore_benchmark.retrievers import VisionRetriever\n",
    "\n",
    "torch.set_default_dtype(torch.float32)\n",
    "\n",
    "model_name = \"vidore/colSmol-256M\"\n",
    "processor = ColIdefics3Processor.from_pretrained(model_name)\n",
    "model = ColIdefics3.from_pretrained(\n",
    "    model_name,\n",
    "    torch_dtype=torch.float32,  # mps doesn't support float64\n",
    "    device_map=\"mps\",\n",
    ").eval()\n",
    "\n",
    "model.to(torch.float32).to(\"mps\")\n",
    "# tensor = tensor.to(torch.float32).to(\"mps\")\n",
    "\n",
    "# Get retriever instance\n",
    "vision_retriever = VisionRetriever(model=model, processor=processor)\n",
    "\n",
    "# Evaluate on a single QA format dataset\n",
    "vidore_evaluator_qa = ViDoReEvaluatorQA(vision_retriever)\n",
    "ds = load_dataset(\"vidore/tabfquad_test_subsampled\", split=\"test\")\n",
    "# metrics_dataset_qa = vidore_evaluator_qa.evaluate_dataset(\n",
    "#     ds=ds,\n",
    "#     batch_query=4,\n",
    "#     batch_passage=4,\n",
    "# )\n",
    "# print(metrics_dataset_qa)"
   ]
  },
  {
   "cell_type": "code",
   "execution_count": 28,
   "metadata": {},
   "outputs": [
    {
     "name": "stdout",
     "output_type": "stream",
     "text": [
      "Dataset({\n",
      "    features: ['query', 'image_filename', 'generated_by', 'GPT4 caption', 'image', 'source'],\n",
      "    num_rows: 280\n",
      "})\n"
     ]
    }
   ],
   "source": [
    "print(ds)\n",
    "# print(ds.features)\n",
    "# print(ds.features['query'])"
   ]
  }
 ],
 "metadata": {
  "kernelspec": {
   "display_name": "projectenv",
   "language": "python",
   "name": "python3"
  },
  "language_info": {
   "codemirror_mode": {
    "name": "ipython",
    "version": 3
   },
   "file_extension": ".py",
   "mimetype": "text/x-python",
   "name": "python",
   "nbconvert_exporter": "python",
   "pygments_lexer": "ipython3",
   "version": "3.12.10"
  }
 },
 "nbformat": 4,
 "nbformat_minor": 2
}
